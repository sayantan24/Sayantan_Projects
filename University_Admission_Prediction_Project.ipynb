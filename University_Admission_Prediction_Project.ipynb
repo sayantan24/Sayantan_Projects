{
 "cells": [
  {
   "cell_type": "code",
   "execution_count": 54,
   "metadata": {},
   "outputs": [],
   "source": [
    "import pandas as pd\n",
    "import numpy as np\n",
    "import seaborn as sns\n",
    "import matplotlib.pyplot as plt\n",
    "from jupyterthemes import jtplot\n",
    "jtplot.style(theme = 'monokai',context = 'notebook',ticks = True,grid =False)"
   ]
  },
  {
   "cell_type": "code",
   "execution_count": 55,
   "metadata": {},
   "outputs": [],
   "source": [
    "admission_df = pd.read_csv('Admission_Predict.csv')"
   ]
  },
  {
   "cell_type": "code",
   "execution_count": 56,
   "metadata": {},
   "outputs": [
    {
     "data": {
      "text/html": [
       "<div>\n",
       "<style scoped>\n",
       "    .dataframe tbody tr th:only-of-type {\n",
       "        vertical-align: middle;\n",
       "    }\n",
       "\n",
       "    .dataframe tbody tr th {\n",
       "        vertical-align: top;\n",
       "    }\n",
       "\n",
       "    .dataframe thead th {\n",
       "        text-align: right;\n",
       "    }\n",
       "</style>\n",
       "<table border=\"1\" class=\"dataframe\">\n",
       "  <thead>\n",
       "    <tr style=\"text-align: right;\">\n",
       "      <th></th>\n",
       "      <th>Serial No.</th>\n",
       "      <th>GRE Score</th>\n",
       "      <th>TOEFL Score</th>\n",
       "      <th>University Rating</th>\n",
       "      <th>SOP</th>\n",
       "      <th>LOR</th>\n",
       "      <th>CGPA</th>\n",
       "      <th>Research</th>\n",
       "      <th>Chance of Admit</th>\n",
       "    </tr>\n",
       "  </thead>\n",
       "  <tbody>\n",
       "    <tr>\n",
       "      <th>0</th>\n",
       "      <td>1</td>\n",
       "      <td>337</td>\n",
       "      <td>118</td>\n",
       "      <td>4</td>\n",
       "      <td>4.5</td>\n",
       "      <td>4.5</td>\n",
       "      <td>9.65</td>\n",
       "      <td>1</td>\n",
       "      <td>0.92</td>\n",
       "    </tr>\n",
       "    <tr>\n",
       "      <th>1</th>\n",
       "      <td>2</td>\n",
       "      <td>324</td>\n",
       "      <td>107</td>\n",
       "      <td>4</td>\n",
       "      <td>4.0</td>\n",
       "      <td>4.5</td>\n",
       "      <td>8.87</td>\n",
       "      <td>1</td>\n",
       "      <td>0.76</td>\n",
       "    </tr>\n",
       "    <tr>\n",
       "      <th>2</th>\n",
       "      <td>3</td>\n",
       "      <td>316</td>\n",
       "      <td>104</td>\n",
       "      <td>3</td>\n",
       "      <td>3.0</td>\n",
       "      <td>3.5</td>\n",
       "      <td>8.00</td>\n",
       "      <td>1</td>\n",
       "      <td>0.72</td>\n",
       "    </tr>\n",
       "    <tr>\n",
       "      <th>3</th>\n",
       "      <td>4</td>\n",
       "      <td>322</td>\n",
       "      <td>110</td>\n",
       "      <td>3</td>\n",
       "      <td>3.5</td>\n",
       "      <td>2.5</td>\n",
       "      <td>8.67</td>\n",
       "      <td>1</td>\n",
       "      <td>0.80</td>\n",
       "    </tr>\n",
       "    <tr>\n",
       "      <th>4</th>\n",
       "      <td>5</td>\n",
       "      <td>314</td>\n",
       "      <td>103</td>\n",
       "      <td>2</td>\n",
       "      <td>2.0</td>\n",
       "      <td>3.0</td>\n",
       "      <td>8.21</td>\n",
       "      <td>0</td>\n",
       "      <td>0.65</td>\n",
       "    </tr>\n",
       "  </tbody>\n",
       "</table>\n",
       "</div>"
      ],
      "text/plain": [
       "   Serial No.  GRE Score  TOEFL Score  University Rating  SOP  LOR   CGPA  \\\n",
       "0           1        337          118                  4  4.5   4.5  9.65   \n",
       "1           2        324          107                  4  4.0   4.5  8.87   \n",
       "2           3        316          104                  3  3.0   3.5  8.00   \n",
       "3           4        322          110                  3  3.5   2.5  8.67   \n",
       "4           5        314          103                  2  2.0   3.0  8.21   \n",
       "\n",
       "   Research  Chance of Admit  \n",
       "0         1             0.92  \n",
       "1         1             0.76  \n",
       "2         1             0.72  \n",
       "3         1             0.80  \n",
       "4         0             0.65  "
      ]
     },
     "execution_count": 56,
     "metadata": {},
     "output_type": "execute_result"
    }
   ],
   "source": [
    "admission_df.head()"
   ]
  },
  {
   "cell_type": "code",
   "execution_count": 57,
   "metadata": {},
   "outputs": [],
   "source": [
    "admission_df.drop('Serial No.',axis = 1,inplace = True)"
   ]
  },
  {
   "cell_type": "code",
   "execution_count": 58,
   "metadata": {},
   "outputs": [
    {
     "data": {
      "text/plain": [
       "GRE Score            0\n",
       "TOEFL Score          0\n",
       "University Rating    0\n",
       "SOP                  0\n",
       "LOR                  0\n",
       "CGPA                 0\n",
       "Research             0\n",
       "Chance of Admit      0\n",
       "dtype: int64"
      ]
     },
     "execution_count": 58,
     "metadata": {},
     "output_type": "execute_result"
    }
   ],
   "source": [
    "admission_df.isnull().sum()"
   ]
  },
  {
   "cell_type": "code",
   "execution_count": 59,
   "metadata": {},
   "outputs": [
    {
     "name": "stdout",
     "output_type": "stream",
     "text": [
      "<class 'pandas.core.frame.DataFrame'>\n",
      "RangeIndex: 500 entries, 0 to 499\n",
      "Data columns (total 8 columns):\n",
      " #   Column             Non-Null Count  Dtype  \n",
      "---  ------             --------------  -----  \n",
      " 0   GRE Score          500 non-null    int64  \n",
      " 1   TOEFL Score        500 non-null    int64  \n",
      " 2   University Rating  500 non-null    int64  \n",
      " 3   SOP                500 non-null    float64\n",
      " 4   LOR                500 non-null    float64\n",
      " 5   CGPA               500 non-null    float64\n",
      " 6   Research           500 non-null    int64  \n",
      " 7   Chance of Admit    500 non-null    float64\n",
      "dtypes: float64(4), int64(4)\n",
      "memory usage: 31.4 KB\n"
     ]
    }
   ],
   "source": [
    "admission_df.info()"
   ]
  },
  {
   "cell_type": "code",
   "execution_count": 60,
   "metadata": {},
   "outputs": [],
   "source": [
    "df_university = admission_df.groupby(by = 'University Rating').mean()"
   ]
  },
  {
   "cell_type": "code",
   "execution_count": 61,
   "metadata": {},
   "outputs": [
    {
     "data": {
      "image/png": "[encoded data removed]",
      "text/plain": [
       "<Figure size 864x864 with 2 Axes>"
      ]
     },
     "metadata": {},
     "output_type": "display_data"
    }
   ],
   "source": [
    "corr_matrix = admission_df.corr()\n",
    "plt.figure(figsize = (12,12))\n",
    "sns.heatmap(corr_matrix,annot = True)\n",
    "plt.show()"
   ]
  },
  {
   "cell_type": "code",
   "execution_count": 62,
   "metadata": {},
   "outputs": [],
   "source": [
    "x = admission_df.drop(columns = ['Chance of Admit'])\n",
    "y = admission_df['Chance of Admit']"
   ]
  },
  {
   "cell_type": "code",
   "execution_count": 63,
   "metadata": {},
   "outputs": [],
   "source": [
    "x = np.array(x)\n",
    "y = np.array(y)\n",
    "y = y.reshape(-1,1)"
   ]
  },
  {
   "cell_type": "code",
   "execution_count": 64,
   "metadata": {},
   "outputs": [],
   "source": [
    "# scaling data before training\n",
    "from sklearn.preprocessing import StandardScaler,MinMaxScaler\n",
    "scaler_x = StandardScaler()\n",
    "x = scaler_x.fit_transform(x)\n",
    "scaler_y = StandardScaler()\n",
    "y = scaler_y.fit_transform(y)"
   ]
  },
  {
   "cell_type": "code",
   "execution_count": 65,
   "metadata": {},
   "outputs": [],
   "source": [
    "from sklearn.model_selection import train_test_split\n",
    "x_train,x_test,y_train,y_test = train_test_split(x,y,test_size = 0.15)"
   ]
  },
  {
   "cell_type": "code",
   "execution_count": 66,
   "metadata": {},
   "outputs": [],
   "source": [
    "from sklearn.linear_model import LinearRegression\n",
    "from sklearn.metrics import mean_squared_error,accuracy_score"
   ]
  },
  {
   "cell_type": "code",
   "execution_count": 67,
   "metadata": {},
   "outputs": [
    {
     "data": {
      "text/plain": [
       "LinearRegression(copy_X=True, fit_intercept=True, n_jobs=None, normalize=False)"
      ]
     },
     "execution_count": 67,
     "metadata": {},
     "output_type": "execute_result"
    }
   ],
   "source": [
    "#Linear Regression Model\n",
    "LinearRegression_model = LinearRegression()\n",
    "LinearRegression_model.fit(x_train,y_train)"
   ]
  },
  {
   "cell_type": "code",
   "execution_count": 68,
   "metadata": {},
   "outputs": [],
   "source": [
    "accuracy_LinearRegression = LinearRegression_model.score(x_test,y_test)"
   ]
  },
  {
   "cell_type": "code",
   "execution_count": 69,
   "metadata": {},
   "outputs": [],
   "source": [
    "#Artificial Neural Network\n",
    "import tensorflow as tf\n",
    "from tensorflow import keras\n",
    "from tensorflow.keras.layers import Dense, Activation, Dropout\n",
    "from tensorflow.keras.optimizers import Adam\n"
   ]
  },
  {
   "cell_type": "code",
   "execution_count": 70,
   "metadata": {},
   "outputs": [
    {
     "name": "stdout",
     "output_type": "stream",
     "text": [
      "Model: \"sequential_2\"\n",
      "_________________________________________________________________\n",
      "Layer (type)                 Output Shape              Param #   \n",
      "=================================================================\n",
      "dense_10 (Dense)             (None, 50)                400       \n",
      "_________________________________________________________________\n",
      "activation_8 (Activation)    (None, 50)                0         \n",
      "_________________________________________________________________\n",
      "dense_11 (Dense)             (None, 150)               7650      \n",
      "_________________________________________________________________\n",
      "activation_9 (Activation)    (None, 150)               0         \n",
      "_________________________________________________________________\n",
      "dropout_4 (Dropout)          (None, 150)               0         \n",
      "_________________________________________________________________\n",
      "dense_12 (Dense)             (None, 150)               22650     \n",
      "_________________________________________________________________\n",
      "activation_10 (Activation)   (None, 150)               0         \n",
      "_________________________________________________________________\n",
      "dropout_5 (Dropout)          (None, 150)               0         \n",
      "_________________________________________________________________\n",
      "dense_13 (Dense)             (None, 50)                7550      \n",
      "_________________________________________________________________\n",
      "activation_11 (Activation)   (None, 50)                0         \n",
      "_________________________________________________________________\n",
      "dense_14 (Dense)             (None, 1)                 51        \n",
      "=================================================================\n",
      "Total params: 38,301\n",
      "Trainable params: 38,301\n",
      "Non-trainable params: 0\n",
      "_________________________________________________________________\n"
     ]
    }
   ],
   "source": [
    "#Training Artificial Neural Network\n",
    "ANN_model = keras.Sequential()\n",
    "ANN_model.add(Dense(50, input_dim = 7))\n",
    "ANN_model.add(Activation('relu'))\n",
    "ANN_model.add(Dense(150))\n",
    "ANN_model.add(Activation('relu'))\n",
    "ANN_model.add(Dropout(0.5))\n",
    "ANN_model.add(Dense(150))\n",
    "ANN_model.add(Activation('relu'))\n",
    "ANN_model.add(Dropout(0.5))\n",
    "ANN_model.add(Dense(50))\n",
    "ANN_model.add(Activation('linear'))\n",
    "ANN_model.add(Dense(1))\n",
    "ANN_model.compile(loss = 'mse', optimizer = 'adam')\n",
    "ANN_model.summary()"
   ]
  },
  {
   "cell_type": "code",
   "execution_count": 71,
   "metadata": {},
   "outputs": [],
   "source": [
    "ANN_model.compile(optimizer='Adam', loss='mean_squared_error')"
   ]
  },
  {
   "cell_type": "code",
   "execution_count": 72,
   "metadata": {},
   "outputs": [
    {
     "name": "stdout",
     "output_type": "stream",
     "text": [
      "Train on 340 samples, validate on 85 samples\n",
      "Epoch 1/100\n",
      "340/340 [==============================] - 1s 2ms/sample - loss: 0.6103 - val_loss: 0.1958\n",
      "Epoch 2/100\n",
      "340/340 [==============================] - 0s 285us/sample - loss: 0.3418 - val_loss: 0.1694\n",
      "Epoch 3/100\n",
      "340/340 [==============================] - 0s 247us/sample - loss: 0.3162 - val_loss: 0.1434\n",
      "Epoch 4/100\n",
      "340/340 [==============================] - 0s 270us/sample - loss: 0.3018 - val_loss: 0.1367\n",
      "Epoch 5/100\n",
      "340/340 [==============================] - 0s 291us/sample - loss: 0.2712 - val_loss: 0.1245\n",
      "Epoch 6/100\n",
      "340/340 [==============================] - 0s 270us/sample - loss: 0.2841 - val_loss: 0.1487\n",
      "Epoch 7/100\n",
      "340/340 [==============================] - 0s 270us/sample - loss: 0.2643 - val_loss: 0.1415\n",
      "Epoch 8/100\n",
      "340/340 [==============================] - 0s 276us/sample - loss: 0.2455 - val_loss: 0.1284\n",
      "Epoch 9/100\n",
      "340/340 [==============================] - 0s 279us/sample - loss: 0.2755 - val_loss: 0.1256\n",
      "Epoch 10/100\n",
      "340/340 [==============================] - 0s 282us/sample - loss: 0.2339 - val_loss: 0.1236\n",
      "Epoch 11/100\n",
      "340/340 [==============================] - 0s 291us/sample - loss: 0.2302 - val_loss: 0.1133\n",
      "Epoch 12/100\n",
      "340/340 [==============================] - 0s 255us/sample - loss: 0.2387 - val_loss: 0.1234\n",
      "Epoch 13/100\n",
      "340/340 [==============================] - 0s 247us/sample - loss: 0.2495 - val_loss: 0.1253\n",
      "Epoch 14/100\n",
      "340/340 [==============================] - 0s 235us/sample - loss: 0.2376 - val_loss: 0.1298\n",
      "Epoch 15/100\n",
      "340/340 [==============================] - 0s 264us/sample - loss: 0.2359 - val_loss: 0.1212\n",
      "Epoch 16/100\n",
      "340/340 [==============================] - 0s 273us/sample - loss: 0.2308 - val_loss: 0.1157\n",
      "Epoch 17/100\n",
      "340/340 [==============================] - 0s 282us/sample - loss: 0.2271 - val_loss: 0.1148\n",
      "Epoch 18/100\n",
      "340/340 [==============================] - 0s 285us/sample - loss: 0.2357 - val_loss: 0.1312\n",
      "Epoch 19/100\n",
      "340/340 [==============================] - 0s 323us/sample - loss: 0.2074 - val_loss: 0.1154\n",
      "Epoch 20/100\n",
      "340/340 [==============================] - 0s 273us/sample - loss: 0.2236 - val_loss: 0.1229\n",
      "Epoch 21/100\n",
      "340/340 [==============================] - 0s 285us/sample - loss: 0.2110 - val_loss: 0.1136\n",
      "Epoch 22/100\n",
      "340/340 [==============================] - 0s 308us/sample - loss: 0.2145 - val_loss: 0.1329\n",
      "Epoch 23/100\n",
      "340/340 [==============================] - 0s 291us/sample - loss: 0.2171 - val_loss: 0.1153\n",
      "Epoch 24/100\n",
      "340/340 [==============================] - 0s 297us/sample - loss: 0.1959 - val_loss: 0.1100\n",
      "Epoch 25/100\n",
      "340/340 [==============================] - 0s 267us/sample - loss: 0.2137 - val_loss: 0.1327\n",
      "Epoch 26/100\n",
      "340/340 [==============================] - 0s 294us/sample - loss: 0.2150 - val_loss: 0.1136\n",
      "Epoch 27/100\n",
      "340/340 [==============================] - 0s 332us/sample - loss: 0.2053 - val_loss: 0.1195\n",
      "Epoch 28/100\n",
      "340/340 [==============================] - 0s 302us/sample - loss: 0.2042 - val_loss: 0.1393\n",
      "Epoch 29/100\n",
      "340/340 [==============================] - 0s 282us/sample - loss: 0.2179 - val_loss: 0.1231\n",
      "Epoch 30/100\n",
      "340/340 [==============================] - 0s 311us/sample - loss: 0.2059 - val_loss: 0.1344\n",
      "Epoch 31/100\n",
      "340/340 [==============================] - 0s 320us/sample - loss: 0.2081 - val_loss: 0.1256\n",
      "Epoch 32/100\n",
      "340/340 [==============================] - 0s 282us/sample - loss: 0.1860 - val_loss: 0.1282\n",
      "Epoch 33/100\n",
      "340/340 [==============================] - 0s 270us/sample - loss: 0.2049 - val_loss: 0.1282\n",
      "Epoch 34/100\n",
      "340/340 [==============================] - 0s 270us/sample - loss: 0.2083 - val_loss: 0.1160\n",
      "Epoch 35/100\n",
      "340/340 [==============================] - 0s 285us/sample - loss: 0.2161 - val_loss: 0.1545\n",
      "Epoch 36/100\n",
      "340/340 [==============================] - 0s 311us/sample - loss: 0.2017 - val_loss: 0.1243\n",
      "Epoch 37/100\n",
      "340/340 [==============================] - 0s 297us/sample - loss: 0.2000 - val_loss: 0.1264\n",
      "Epoch 38/100\n",
      "340/340 [==============================] - 0s 308us/sample - loss: 0.2026 - val_loss: 0.1231\n",
      "Epoch 39/100\n",
      "340/340 [==============================] - 0s 300us/sample - loss: 0.1794 - val_loss: 0.1366\n",
      "Epoch 40/100\n",
      "340/340 [==============================] - 0s 311us/sample - loss: 0.2058 - val_loss: 0.1249\n",
      "Epoch 41/100\n",
      "340/340 [==============================] - 0s 300us/sample - loss: 0.1926 - val_loss: 0.1280\n",
      "Epoch 42/100\n",
      "340/340 [==============================] - 0s 226us/sample - loss: 0.1708 - val_loss: 0.1243\n",
      "Epoch 43/100\n",
      "340/340 [==============================] - 0s 235us/sample - loss: 0.1827 - val_loss: 0.1190\n",
      "Epoch 44/100\n",
      "340/340 [==============================] - 0s 241us/sample - loss: 0.1744 - val_loss: 0.1257\n",
      "Epoch 45/100\n",
      "340/340 [==============================] - 0s 223us/sample - loss: 0.1784 - val_loss: 0.1153\n",
      "Epoch 46/100\n",
      "340/340 [==============================] - 0s 211us/sample - loss: 0.1652 - val_loss: 0.1288\n",
      "Epoch 47/100\n",
      "340/340 [==============================] - 0s 261us/sample - loss: 0.1884 - val_loss: 0.1199\n",
      "Epoch 48/100\n",
      "340/340 [==============================] - 0s 238us/sample - loss: 0.1738 - val_loss: 0.1258\n",
      "Epoch 49/100\n",
      "340/340 [==============================] - 0s 253us/sample - loss: 0.1762 - val_loss: 0.1191\n",
      "Epoch 50/100\n",
      "340/340 [==============================] - 0s 226us/sample - loss: 0.1623 - val_loss: 0.1123\n",
      "Epoch 51/100\n",
      "340/340 [==============================] - 0s 276us/sample - loss: 0.1553 - val_loss: 0.1187\n",
      "Epoch 52/100\n",
      "340/340 [==============================] - 0s 226us/sample - loss: 0.1489 - val_loss: 0.1164\n",
      "Epoch 53/100\n",
      "340/340 [==============================] - 0s 220us/sample - loss: 0.1746 - val_loss: 0.1513\n",
      "Epoch 54/100\n",
      "340/340 [==============================] - 0s 223us/sample - loss: 0.1809 - val_loss: 0.1181\n",
      "Epoch 55/100\n",
      "340/340 [==============================] - 0s 247us/sample - loss: 0.1529 - val_loss: 0.1361\n",
      "Epoch 56/100\n",
      "340/340 [==============================] - 0s 261us/sample - loss: 0.1732 - val_loss: 0.1277\n",
      "Epoch 57/100\n",
      "340/340 [==============================] - 0s 282us/sample - loss: 0.1611 - val_loss: 0.1149\n",
      "Epoch 58/100\n",
      "340/340 [==============================] - 0s 244us/sample - loss: 0.1652 - val_loss: 0.1201\n",
      "Epoch 59/100\n",
      "340/340 [==============================] - 0s 244us/sample - loss: 0.1702 - val_loss: 0.1188\n",
      "Epoch 60/100\n",
      "340/340 [==============================] - 0s 256us/sample - loss: 0.1623 - val_loss: 0.1380\n",
      "Epoch 61/100\n",
      "340/340 [==============================] - 0s 241us/sample - loss: 0.1573 - val_loss: 0.1412\n",
      "Epoch 62/100\n",
      "340/340 [==============================] - 0s 264us/sample - loss: 0.1670 - val_loss: 0.1301\n",
      "Epoch 63/100\n",
      "340/340 [==============================] - 0s 220us/sample - loss: 0.1393 - val_loss: 0.1292\n",
      "Epoch 64/100\n",
      "340/340 [==============================] - 0s 226us/sample - loss: 0.1745 - val_loss: 0.1267\n",
      "Epoch 65/100\n",
      "340/340 [==============================] - 0s 235us/sample - loss: 0.1706 - val_loss: 0.1345\n",
      "Epoch 66/100\n",
      "340/340 [==============================] - 0s 206us/sample - loss: 0.1446 - val_loss: 0.1161\n",
      "Epoch 67/100\n",
      "340/340 [==============================] - 0s 244us/sample - loss: 0.1455 - val_loss: 0.1149\n",
      "Epoch 68/100\n",
      "340/340 [==============================] - 0s 244us/sample - loss: 0.1346 - val_loss: 0.1184\n",
      "Epoch 69/100\n",
      "340/340 [==============================] - 0s 279us/sample - loss: 0.1490 - val_loss: 0.1245\n",
      "Epoch 70/100\n",
      "340/340 [==============================] - 0s 317us/sample - loss: 0.1554 - val_loss: 0.1228\n",
      "Epoch 71/100\n",
      "340/340 [==============================] - 0s 267us/sample - loss: 0.1436 - val_loss: 0.1341\n",
      "Epoch 72/100\n",
      "340/340 [==============================] - 0s 314us/sample - loss: 0.1430 - val_loss: 0.1244\n",
      "Epoch 73/100\n",
      "340/340 [==============================] - 0s 267us/sample - loss: 0.1423 - val_loss: 0.1291\n",
      "Epoch 74/100\n",
      "340/340 [==============================] - 0s 314us/sample - loss: 0.1396 - val_loss: 0.1334\n",
      "Epoch 75/100\n",
      "340/340 [==============================] - 0s 332us/sample - loss: 0.1526 - val_loss: 0.1315\n",
      "Epoch 76/100\n",
      "340/340 [==============================] - 0s 232us/sample - loss: 0.1606 - val_loss: 0.1288\n",
      "Epoch 77/100\n",
      "340/340 [==============================] - 0s 291us/sample - loss: 0.1391 - val_loss: 0.1322\n",
      "Epoch 78/100\n",
      "340/340 [==============================] - 0s 209us/sample - loss: 0.1350 - val_loss: 0.1191\n",
      "Epoch 79/100\n",
      "340/340 [==============================] - 0s 179us/sample - loss: 0.1409 - val_loss: 0.1219\n",
      "Epoch 80/100\n",
      "340/340 [==============================] - 0s 191us/sample - loss: 0.1328 - val_loss: 0.1237\n",
      "Epoch 81/100\n",
      "340/340 [==============================] - 0s 203us/sample - loss: 0.1282 - val_loss: 0.1364\n",
      "Epoch 82/100\n",
      "340/340 [==============================] - 0s 203us/sample - loss: 0.1281 - val_loss: 0.1299\n",
      "Epoch 83/100\n",
      "340/340 [==============================] - 0s 214us/sample - loss: 0.1423 - val_loss: 0.1254\n",
      "Epoch 84/100\n",
      "340/340 [==============================] - 0s 197us/sample - loss: 0.1329 - val_loss: 0.1322\n",
      "Epoch 85/100\n",
      "340/340 [==============================] - 0s 209us/sample - loss: 0.1213 - val_loss: 0.1402\n",
      "Epoch 86/100\n",
      "340/340 [==============================] - 0s 197us/sample - loss: 0.1337 - val_loss: 0.1413\n",
      "Epoch 87/100\n",
      "340/340 [==============================] - 0s 250us/sample - loss: 0.1187 - val_loss: 0.1378\n",
      "Epoch 88/100\n",
      "340/340 [==============================] - 0s 211us/sample - loss: 0.1274 - val_loss: 0.1407\n",
      "Epoch 89/100\n",
      "340/340 [==============================] - 0s 203us/sample - loss: 0.1214 - val_loss: 0.1353\n",
      "Epoch 90/100\n",
      "340/340 [==============================] - 0s 191us/sample - loss: 0.1199 - val_loss: 0.1419\n",
      "Epoch 91/100\n",
      "340/340 [==============================] - 0s 203us/sample - loss: 0.1269 - val_loss: 0.1351\n",
      "Epoch 92/100\n",
      "340/340 [==============================] - 0s 205us/sample - loss: 0.1265 - val_loss: 0.1412\n",
      "Epoch 93/100\n",
      "340/340 [==============================] - 0s 206us/sample - loss: 0.1234 - val_loss: 0.1482\n",
      "Epoch 94/100\n",
      "340/340 [==============================] - 0s 194us/sample - loss: 0.1142 - val_loss: 0.1372\n",
      "Epoch 95/100\n",
      "340/340 [==============================] - 0s 250us/sample - loss: 0.1083 - val_loss: 0.1356\n",
      "Epoch 96/100\n",
      "340/340 [==============================] - 0s 220us/sample - loss: 0.1322 - val_loss: 0.1344\n",
      "Epoch 97/100\n",
      "340/340 [==============================] - 0s 241us/sample - loss: 0.1182 - val_loss: 0.1347\n",
      "Epoch 98/100\n",
      "340/340 [==============================] - 0s 209us/sample - loss: 0.1067 - val_loss: 0.1430\n",
      "Epoch 99/100\n",
      "340/340 [==============================] - 0s 203us/sample - loss: 0.1326 - val_loss: 0.1308\n",
      "Epoch 100/100\n",
      "340/340 [==============================] - 0s 203us/sample - loss: 0.1129 - val_loss: 0.1328\n"
     ]
    }
   ],
   "source": [
    "epochs_hist = ANN_model.fit(x_train, y_train, epochs = 100, batch_size = 20, validation_split = 0.2)"
   ]
  },
  {
   "cell_type": "code",
   "execution_count": 73,
   "metadata": {},
   "outputs": [
    {
     "name": "stdout",
     "output_type": "stream",
     "text": [
      "75/1 [==========================================================================================================================================================================================================================================================================================================================================================================================================================================================================================================================================================================================================================================================================================================================================================================================================================================================================================================================================================================================================================================================================================================================================================================================================================================================================================================================================================================================================================================================================================================================================================================================================================================================================================================================================================================================================================================================================================================================================================================================================================================================================================================================================================================================================================================================================================================================================] - 0s 94us/sample - loss: 0.3392\n",
      "Accuracy : 0.7364659734567006\n"
     ]
    }
   ],
   "source": [
    "result = ANN_model.evaluate(x_test, y_test)\n",
    "accuracy_ANN = 1 - result\n",
    "print(\"Accuracy : {}\".format(accuracy_ANN))"
   ]
  },
  {
   "cell_type": "code",
   "execution_count": 74,
   "metadata": {},
   "outputs": [
    {
     "data": {
      "text/plain": [
       "dict_keys(['loss', 'val_loss'])"
      ]
     },
     "execution_count": 74,
     "metadata": {},
     "output_type": "execute_result"
    }
   ],
   "source": [
    "epochs_hist.history.keys()"
   ]
  },
  {
   "cell_type": "code",
   "execution_count": 75,
   "metadata": {},
   "outputs": [
    {
     "data": {
      "text/plain": [
       "<matplotlib.legend.Legend at 0x238746e3208>"
      ]
     },
     "execution_count": 75,
     "metadata": {},
     "output_type": "execute_result"
    },
    {
     "data": {
      "image/png": "[encoded data removed]",
      "text/plain": [
       "<Figure size 576x504 with 1 Axes>"
      ]
     },
     "metadata": {},
     "output_type": "display_data"
    }
   ],
   "source": [
    "plt.plot(epochs_hist.history['loss'])\n",
    "plt.title('Model Loss Progress During Training')\n",
    "plt.xlabel('Epoch')\n",
    "plt.ylabel('Training Loss')\n",
    "plt.legend(['Training Loss'])"
   ]
  },
  {
   "cell_type": "code",
   "execution_count": 76,
   "metadata": {},
   "outputs": [
    {
     "data": {
      "text/plain": [
       "DecisionTreeRegressor(ccp_alpha=0.0, criterion='mse', max_depth=None,\n",
       "                      max_features=None, max_leaf_nodes=None,\n",
       "                      min_impurity_decrease=0.0, min_impurity_split=None,\n",
       "                      min_samples_leaf=1, min_samples_split=2,\n",
       "                      min_weight_fraction_leaf=0.0, presort='deprecated',\n",
       "                      random_state=None, splitter='best')"
      ]
     },
     "execution_count": 76,
     "metadata": {},
     "output_type": "execute_result"
    }
   ],
   "source": [
    "#Decision Tree Model\n",
    "from sklearn.tree import DecisionTreeRegressor\n",
    "DecisionTree_model = DecisionTreeRegressor()\n",
    "DecisionTree_model.fit(x_train,y_train)"
   ]
  },
  {
   "cell_type": "code",
   "execution_count": 77,
   "metadata": {},
   "outputs": [
    {
     "name": "stderr",
     "output_type": "stream",
     "text": [
      "C:\\Users\\Administrator\\anaconda31\\lib\\site-packages\\ipykernel_launcher.py:3: DataConversionWarning: A column-vector y was passed when a 1d array was expected. Please change the shape of y to (n_samples,), for example using ravel().\n",
      "  This is separate from the ipykernel package so we can avoid doing imports until\n"
     ]
    },
    {
     "data": {
      "text/plain": [
       "RandomForestRegressor(bootstrap=True, ccp_alpha=0.0, criterion='mse',\n",
       "                      max_depth=10, max_features='auto', max_leaf_nodes=None,\n",
       "                      max_samples=None, min_impurity_decrease=0.0,\n",
       "                      min_impurity_split=None, min_samples_leaf=1,\n",
       "                      min_samples_split=2, min_weight_fraction_leaf=0.0,\n",
       "                      n_estimators=100, n_jobs=None, oob_score=False,\n",
       "                      random_state=None, verbose=0, warm_start=False)"
      ]
     },
     "execution_count": 77,
     "metadata": {},
     "output_type": "execute_result"
    }
   ],
   "source": [
    "#Random Tree Model\n",
    "from sklearn.ensemble import RandomForestRegressor\n",
    "RandomForest_model = RandomForestRegressor(n_estimators=100,max_depth = 10)\n",
    "RandomForest_model.fit(x_train,y_train)"
   ]
  },
  {
   "cell_type": "code",
   "execution_count": 78,
   "metadata": {},
   "outputs": [
    {
     "data": {
      "text/plain": [
       "[<matplotlib.lines.Line2D at 0x23874678e48>]"
      ]
     },
     "execution_count": 78,
     "metadata": {},
     "output_type": "execute_result"
    },
    {
     "data": {
      "image/png": "[encoded data removed]",
      "text/plain": [
       "<Figure size 576x504 with 1 Axes>"
      ]
     },
     "metadata": {},
     "output_type": "display_data"
    }
   ],
   "source": [
    "y_predict = LinearRegression_model.predict(x_test)\n",
    "plt.plot(y_test,y_predict,'.',color = 'r')"
   ]
  },
  {
   "cell_type": "code",
   "execution_count": 79,
   "metadata": {},
   "outputs": [],
   "source": [
    "y_predict_orig = scaler_y.inverse_transform(y_predict)\n",
    "y_test_orig = scaler_y.inverse_transform(y_test)"
   ]
  },
  {
   "cell_type": "code",
   "execution_count": 81,
   "metadata": {},
   "outputs": [
    {
     "data": {
      "text/plain": [
       "[<matplotlib.lines.Line2D at 0x238746c0808>]"
      ]
     },
     "execution_count": 81,
     "metadata": {},
     "output_type": "execute_result"
    },
    {
     "data": {
      "image/png": "[encoded data removed]",
      "text/plain": [
       "<Figure size 576x504 with 1 Axes>"
      ]
     },
     "metadata": {},
     "output_type": "display_data"
    }
   ],
   "source": [
    "plt.plot(y_test_orig,y_predict_orig,'^',color = 'b')"
   ]
  },
  {
   "cell_type": "code",
   "execution_count": 82,
   "metadata": {},
   "outputs": [
    {
     "data": {
      "text/plain": [
       "75"
      ]
     },
     "execution_count": 82,
     "metadata": {},
     "output_type": "execute_result"
    }
   ],
   "source": [
    "k = x_test.shape[1]\n",
    "n = len(x_test)\n",
    "n"
   ]
  },
  {
   "cell_type": "code",
   "execution_count": 83,
   "metadata": {},
   "outputs": [
    {
     "name": "stdout",
     "output_type": "stream",
     "text": [
      "rmse =  0.057 \n",
      "MSE =  0.0032696500483390665 \n",
      "MAE = 0.04347553482715936 \n",
      "R2 =  0.8367447488925882 Adj R2 = 0.819688230120172\n"
     ]
    }
   ],
   "source": [
    "from sklearn.metrics import r2_score,mean_squared_error,mean_absolute_error\n",
    "from math import sqrt\n",
    "\n",
    "rmse = float(format(np.sqrt(mean_squared_error(y_test_orig,y_predict_orig)),'.3f'))\n",
    "mse = mean_squared_error(y_test_orig,y_predict_orig)\n",
    "mae= mean_absolute_error(y_test_orig,y_predict_orig)\n",
    "r2 = r2_score(y_test_orig,y_predict_orig)\n",
    "adj_r2 = 1-(1-r2)*(n-1)/(n-k-1)\n",
    "\n",
    "print('rmse = ',rmse,'\\nMSE = ',mse,'\\nMAE =',mae,'\\nR2 = ',r2,'Adj R2 =',adj_r2)"
   ]
  },
  {
   "cell_type": "code",
   "execution_count": null,
   "metadata": {},
   "outputs": [],
   "source": []
  }
 ],
 "metadata": {
  "kernelspec": {
   "display_name": "Python 3",
   "language": "python",
   "name": "python3"
  },
  "language_info": {
   "codemirror_mode": {
    "name": "ipython",
    "version": 3
   },
   "file_extension": ".py",
   "mimetype": "text/x-python",
   "name": "python",
   "nbconvert_exporter": "python",
   "pygments_lexer": "ipython3",
   "version": "3.7.6"
  }
 },
 "nbformat": 4,
 "nbformat_minor": 4
}
